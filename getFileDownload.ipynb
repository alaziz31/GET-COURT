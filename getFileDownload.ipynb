{
 "cells": [
  {
   "cell_type": "code",
   "execution_count": 5,
   "metadata": {},
   "outputs": [
    {
     "name": "stdout",
     "output_type": "stream",
     "text": [
      "Downloaded: zaedca2b3dc7e42cadfd313730343138\n",
      "Downloaded: zaedca28e81ec25e8cb4313634373336\n",
      "Downloaded: zaee8cd15b22f0a2b5a2313030323130\n",
      "Downloaded: zaee8cd158704440ac12313030323035\n",
      "Downloaded: zaedca2b3dc7e42cadfd313730343138\n",
      "Downloaded: zaedca28e81ec25e8cb4313634373336\n",
      "Downloaded: zaee8cd15b22f0a2b5a2313030323130\n",
      "Downloaded: zaee8cd158704440ac12313030323035\n",
      "Downloaded: zaee8ced2e2e63bcb91e313332313230\n",
      "Downloaded: zaee8ced29e9d3ccb06a313332313133\n",
      "Downloaded: zaee8cd15b22f0a2b5a2313030323130\n"
     ]
    }
   ],
   "source": [
    "import csv\n",
    "import requests\n",
    "\n",
    "def download_files_from_csv(csv_file_path, output_folder):\n",
    "    with open(csv_file_path, 'r') as file:\n",
    "        csv_reader = csv.reader(file)\n",
    "        next(csv_reader)  # Skip header row if present\n",
    "        for row in csv_reader:\n",
    "            url = row[20]  # assuming the URL is in the first column\n",
    "            if url != \"\":\n",
    "                download_file(url, output_folder)\n",
    "\n",
    "def download_file(url, output_folder):\n",
    "    response = requests.get(url)\n",
    "    if response.status_code == 200:\n",
    "        file_name = url.split(\"/\")[-1]\n",
    "        file_path = f\"{output_folder}/{file_name}.pdf\"\n",
    "        with open(file_path, 'wb') as file:\n",
    "            file.write(response.content)\n",
    "        print(f\"Downloaded: {file_name}\")\n",
    "    else:\n",
    "        print(f\"Failed to download: {url}\")\n",
    "\n",
    "if __name__ == \"__main__\":\n",
    "    csv_file_path = \"D:/6.PYTHON-CODE/GET-PUTUSAN/metaPutusan1.csv\"  # Ubah path sesuai dengan lokasi file CSV Anda\n",
    "    output_folder = \"D:/6.PYTHON-CODE/GET-PUTUSAN/OUTPUT\"  # Ubah path sesuai dengan lokasi folder output Anda\n",
    "    download_files_from_csv(csv_file_path, output_folder)\n"
   ]
  }
 ],
 "metadata": {
  "kernelspec": {
   "display_name": "Python 3",
   "language": "python",
   "name": "python3"
  },
  "language_info": {
   "codemirror_mode": {
    "name": "ipython",
    "version": 3
   },
   "file_extension": ".py",
   "mimetype": "text/x-python",
   "name": "python",
   "nbconvert_exporter": "python",
   "pygments_lexer": "ipython3",
   "version": "3.7.3"
  }
 },
 "nbformat": 4,
 "nbformat_minor": 2
}
